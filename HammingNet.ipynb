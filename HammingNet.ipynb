{
 "cells": [
  {
   "cell_type": "code",
   "execution_count": 44,
   "id": "overall-european",
   "metadata": {},
   "outputs": [],
   "source": [
    "import numpy as np\n",
    "import pandas as pd\n",
    "import seaborn as sns\n",
    "import matplotlib.pyplot as plt"
   ]
  },
  {
   "cell_type": "code",
   "execution_count": 45,
   "id": "billion-hunger",
   "metadata": {},
   "outputs": [],
   "source": [
    "def contains_duplicates(X):\n",
    "    return len(np.unique(X)) != len(X)"
   ]
  },
  {
   "cell_type": "code",
   "execution_count": 58,
   "id": "ecological-lecture",
   "metadata": {},
   "outputs": [],
   "source": [
    "def find_maximum_number(input_arr):\n",
    "    input_arr = input_arr.T\n",
    "    m = input_arr.shape[0]\n",
    "    epsilon = 0.13\n",
    "    weights = np.ones((m, m)) * -epsilon\n",
    "    np.fill_diagonal(weights, 1)\n",
    "    cnt = 1\n",
    "    while True:\n",
    "        if len(np.nonzero(input_arr)[0]) == 1 or (len(np.nonzero(input_arr)[0]) == 2 and contains_duplicates(input_arr.squeeze(1))):\n",
    "            print('index of the largest number: {}'.format(np.where(input_arr[:, 0] > 0)[0]))\n",
    "            return np.where(input_arr[:, 0] > 0)[0]\n",
    "            break\n",
    "        result = np.matmul(weights, input_arr)\n",
    "        for i in range(m):\n",
    "            if result[i][0] >= 0:\n",
    "                input_arr[i][0] = result[i][0]\n",
    "            else:\n",
    "                input_arr[i][0] = 0\n",
    "        cnt += 1"
   ]
  },
  {
   "cell_type": "code",
   "execution_count": 59,
   "id": "hourly-income",
   "metadata": {},
   "outputs": [],
   "source": [
    "e = np.array([\n",
    "    [1, -1, 1, -1, 1, -1], \n",
    "    [-1, 1, -1, 1, -1, -1], \n",
    "    [1, 1, 1, -1, -1, -1]\n",
    "])"
   ]
  },
  {
   "cell_type": "code",
   "execution_count": 60,
   "id": "respected-snake",
   "metadata": {},
   "outputs": [],
   "source": [
    "v = np.array([\n",
    "    [1, 1, 1, 1, 1, 1], \n",
    "    [-1, 1, -1, -1, 1, 1], \n",
    "    [-1, -1, 1, 1, 1, 1],\n",
    "    [-1, -1, 1, 1, -1, 1], \n",
    "    [-1, 1, 1, -1, -1, -1]\n",
    "])"
   ]
  },
  {
   "cell_type": "code",
   "execution_count": 61,
   "id": "smooth-intro",
   "metadata": {},
   "outputs": [],
   "source": [
    "weights = e.T / 2"
   ]
  },
  {
   "cell_type": "code",
   "execution_count": 62,
   "id": "burning-duplicate",
   "metadata": {},
   "outputs": [],
   "source": [
    "b = e.shape[1] / 2"
   ]
  },
  {
   "cell_type": "code",
   "execution_count": 63,
   "id": "smaller-struggle",
   "metadata": {},
   "outputs": [
    {
     "name": "stdout",
     "output_type": "stream",
     "text": [
      "results for input index 0: [[3. 2. 3.]]\n",
      "index of the largest number: [0 2]\n",
      "the closest neuron to this input is [[ 1 -1  1 -1  1 -1]\n",
      " [ 1  1  1 -1 -1 -1]]\n",
      "results for input index 1: [[2. 3. 2.]]\n",
      "index of the largest number: [1]\n",
      "the closest neuron to this input is [[-1  1 -1  1 -1 -1]]\n",
      "results for input index 2: [[3. 2. 1.]]\n",
      "index of the largest number: [0]\n",
      "the closest neuron to this input is [[ 1 -1  1 -1  1 -1]]\n",
      "results for input index 3: [[2. 3. 2.]]\n",
      "index of the largest number: [1]\n",
      "the closest neuron to this input is [[-1  1 -1  1 -1 -1]]\n",
      "results for input index 4: [[3. 4. 5.]]\n",
      "index of the largest number: [2]\n",
      "the closest neuron to this input is [[ 1  1  1 -1 -1 -1]]\n"
     ]
    }
   ],
   "source": [
    "for input_index in range(v.shape[0]):\n",
    "    input_array = v[input_index].reshape((1, -1))\n",
    "    results = b + np.matmul(input_array, weights)\n",
    "    print('results for input index {}: {}'.format(input_index, results))\n",
    "    max_result = find_maximum_number(results)\n",
    "    print('the closest neuron to this input is {}'.format(e[max_result]))"
   ]
  }
 ],
 "metadata": {
  "kernelspec": {
   "display_name": "Python 3",
   "language": "python",
   "name": "python3"
  },
  "language_info": {
   "codemirror_mode": {
    "name": "ipython",
    "version": 3
   },
   "file_extension": ".py",
   "mimetype": "text/x-python",
   "name": "python",
   "nbconvert_exporter": "python",
   "pygments_lexer": "ipython3",
   "version": "3.8.0"
  }
 },
 "nbformat": 4,
 "nbformat_minor": 5
}
