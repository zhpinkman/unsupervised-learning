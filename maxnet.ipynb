{
 "cells": [
  {
   "cell_type": "markdown",
   "id": "rotary-israel",
   "metadata": {},
   "source": [
    "### Importing the required libraries"
   ]
  },
  {
   "cell_type": "code",
   "execution_count": 84,
   "id": "central-biology",
   "metadata": {},
   "outputs": [],
   "source": [
    "import numpy as np\n",
    "import pandas as pd\n",
    "import matplotlib.pyplot as plt\n",
    "import seaborn as sns"
   ]
  },
  {
   "cell_type": "code",
   "execution_count": 85,
   "id": "painted-victory",
   "metadata": {},
   "outputs": [],
   "source": [
    "input_arr = np.array([1.2, 1.1, 0.5, 1.5, 1.13, 0.8])\n",
    "input_arr = np.reshape(input_arr, (-1, 1))\n",
    "m = input_arr.shape[0]"
   ]
  },
  {
   "cell_type": "markdown",
   "id": "acquired-soldier",
   "metadata": {},
   "source": [
    "### Specifying the epsilon parameter"
   ]
  },
  {
   "cell_type": "code",
   "execution_count": 86,
   "id": "front-single",
   "metadata": {},
   "outputs": [],
   "source": [
    "epsilon = 0.13"
   ]
  },
  {
   "cell_type": "code",
   "execution_count": 87,
   "id": "congressional-ultimate",
   "metadata": {},
   "outputs": [],
   "source": [
    "weights = np.ones((m, m)) * -epsilon"
   ]
  },
  {
   "cell_type": "code",
   "execution_count": 88,
   "id": "sufficient-williams",
   "metadata": {},
   "outputs": [],
   "source": [
    "np.fill_diagonal(weights, 1)"
   ]
  },
  {
   "cell_type": "code",
   "execution_count": 90,
   "id": "resident-driver",
   "metadata": {},
   "outputs": [
    {
     "data": {
      "text/plain": [
       "array([[ 1.  , -0.13, -0.13, -0.13, -0.13, -0.13],\n",
       "       [-0.13,  1.  , -0.13, -0.13, -0.13, -0.13],\n",
       "       [-0.13, -0.13,  1.  , -0.13, -0.13, -0.13],\n",
       "       [-0.13, -0.13, -0.13,  1.  , -0.13, -0.13],\n",
       "       [-0.13, -0.13, -0.13, -0.13,  1.  , -0.13],\n",
       "       [-0.13, -0.13, -0.13, -0.13, -0.13,  1.  ]])"
      ]
     },
     "execution_count": 90,
     "metadata": {},
     "output_type": "execute_result"
    }
   ],
   "source": [
    "weights"
   ]
  },
  {
   "cell_type": "markdown",
   "id": "explicit-source",
   "metadata": {},
   "source": [
    "### Feeding the input vectors to the model and find the maximum number in the array"
   ]
  },
  {
   "cell_type": "code",
   "execution_count": 91,
   "id": "organizational-means",
   "metadata": {},
   "outputs": [
    {
     "name": "stdout",
     "output_type": "stream",
     "text": [
      "index of the largest number: (array([3]),)\n"
     ]
    }
   ],
   "source": [
    "cnt = 1\n",
    "while True:\n",
    "    if len(np.nonzero(input_arr)[0]) == 1:\n",
    "        print('index of the largest number: {}'.format(np.where(input_arr[:, 0] > 0)))\n",
    "        break\n",
    "    result = np.matmul(weights, input_arr)\n",
    "    for i in range(m):\n",
    "        if result[i][0] >= 0:\n",
    "            input_arr[i][0] = result[i][0]\n",
    "        else:\n",
    "            input_arr[i][0] = 0\n",
    "    cnt += 1"
   ]
  },
  {
   "cell_type": "markdown",
   "id": "coupled-spencer",
   "metadata": {},
   "source": [
    "### Using Power function to simulate absolute function and find the max of the array's abs"
   ]
  },
  {
   "cell_type": "code",
   "execution_count": 105,
   "id": "greatest-vacation",
   "metadata": {},
   "outputs": [],
   "source": [
    "input_arr = np.array([1.2, 1.1, 0.5, -1.5, 1.13, -0.8])\n",
    "input_arr = np.reshape(input_arr, (-1, 1))\n",
    "m = input_arr.shape[0]"
   ]
  },
  {
   "cell_type": "code",
   "execution_count": 106,
   "id": "separated-penetration",
   "metadata": {},
   "outputs": [],
   "source": [
    "input_arr *= input_arr"
   ]
  },
  {
   "cell_type": "code",
   "execution_count": 107,
   "id": "embedded-economy",
   "metadata": {},
   "outputs": [],
   "source": [
    "weights = np.ones((m, m)) * -epsilon"
   ]
  },
  {
   "cell_type": "code",
   "execution_count": 108,
   "id": "competent-engagement",
   "metadata": {},
   "outputs": [],
   "source": [
    "np.fill_diagonal(weights, 1)"
   ]
  },
  {
   "cell_type": "code",
   "execution_count": 109,
   "id": "sharing-utility",
   "metadata": {},
   "outputs": [
    {
     "name": "stdout",
     "output_type": "stream",
     "text": [
      "index of the largest number: (array([3]),)\n"
     ]
    }
   ],
   "source": [
    "cnt = 1\n",
    "while True:\n",
    "    if len(np.nonzero(input_arr)[0]) == 1:\n",
    "        print('index of the largest number: {}'.format(np.where(input_arr[:, 0] > 0)))\n",
    "        break\n",
    "    result = np.matmul(weights, input_arr)\n",
    "    for i in range(m):\n",
    "        if result[i][0] >= 0:\n",
    "            input_arr[i][0] = result[i][0]\n",
    "        else:\n",
    "            input_arr[i][0] = 0\n",
    "    cnt += 1"
   ]
  }
 ],
 "metadata": {
  "kernelspec": {
   "display_name": "Python 3",
   "language": "python",
   "name": "python3"
  },
  "language_info": {
   "codemirror_mode": {
    "name": "ipython",
    "version": 3
   },
   "file_extension": ".py",
   "mimetype": "text/x-python",
   "name": "python",
   "nbconvert_exporter": "python",
   "pygments_lexer": "ipython3",
   "version": "3.8.0"
  }
 },
 "nbformat": 4,
 "nbformat_minor": 5
}
